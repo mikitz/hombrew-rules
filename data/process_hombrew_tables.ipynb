{
 "cells": [
  {
   "cell_type": "markdown",
   "metadata": {},
   "source": [
    "# Process Homebrew Rules Tables"
   ]
  },
  {
   "cell_type": "code",
   "execution_count": null,
   "metadata": {},
   "outputs": [],
   "source": [
    "# ===============\n",
    "#    Functions\n",
    "# ===============\n",
    "# Source: https://www.w3resource.com/python-exercises/string/python-data-type-string-exercise-96.php\n",
    "from re import sub\n",
    "def camel_case(s):\n",
    "    s = sub(r\"(_|-)+\", \" \", s).title().replace(\" \", \"\")\n",
    "    return ''.join([s[0].lower(), s[1:]])\n",
    "# ===============\n",
    "#    Load File\n",
    "# ===============\n",
    "import pandas as pd # Import Pandas\n",
    "xlsx = pd.ExcelFile('Homebrew Rules Tables.xlsx') # Read the XLSX using Pandas\n",
    "sheets = xlsx.sheet_names # Get the sheet names\n",
    "jsFile = open(f\"data.js\", \"w\") # Create a new file with a file version\n",
    "# =============================\n",
    "#    Process the Pages sheet\n",
    "# =============================\n",
    "dfPages = pd.read_excel(xlsx, sheet_name='Pages') # Load the Pages sheet into a DF\n",
    "pagesJSON = dfPages.to_json(orient='records') # Convert it into a JSON\n",
    "objName = 'pages' # Set up the name of the JavaScript object\n",
    "obj = f'let {objName} = ' # Set up the JavaScript code\n",
    "obj += pagesJSON # Append the JSON to the JavaScript object string\n",
    "jsFile.write(obj) # Write the JavaScript object to the file\n",
    "# ==================================================\n",
    "#    Process the Tables from the Remaining Sheets\n",
    "# ==================================================\n",
    "pages = list(dfPages['NAME']) # Get the page names as a list\n",
    "for page in pages: # Loop through all the pages\n",
    "    if page == 'Home': continue # Check if this item is \"Home\" and skip it if it is\n",
    "    df = pd.read_excel(xlsx, sheet_name=page) # Turn the sheet into a DataFrame\n",
    "    prevNullRow = False # Set up the previous null row\n",
    "    if df.shape[0] > 0: # Only proceed if the DataFrame is not emtpy\n",
    "        for idx, row in df.iterrows(): # Loop through all the rows of the DataFrame\n",
    "            isNull = (df[idx:idx+1].isnull().all(axis=1)).to_list()[0] # Get a boolean of whether this row is all NaN\n",
    "            if isNull or df.shape[0] - 1 == idx: # Check if this row is NaN\n",
    "                if prevNullRow: table = df[prevNullRow + 1:idx].reset_index(drop=True) # Splice the table out using the last noted NaN row's index\n",
    "                else: table = df[0:idx].reset_index(drop=True) # Splice the table out starting from index 0\n",
    "                tableName = table[table.columns[0]][0] # Pull out the table's name\n",
    "                tableLength = table.shape[0] # Get the table's length\n",
    "                table = table[1:tableLength] # Splice the table\n",
    "                table = table.dropna(axis=1, how='all') # Drop all NaN columns\n",
    "                table.columns = table.iloc[0] # Set the first row to the column headers\n",
    "                table = table[1:] # Drop the first row of and reset the index\n",
    "                table = table.to_json(orient='records') # Convert it to a JSON\n",
    "                prevNullRow = idx # Set the previous null row index to the current index\n",
    "                jsObjectName = camel_case(tableName.replace(\"&\", \"and\")) # Fix the Table Name so it can be used in the JS file\n",
    "                jsFile.write(f\"\\nlet {jsObjectName} = {table}\") # Write the table to the JS file\n",
    "# ====================================\n",
    "#    Process the Page Content Sheet\n",
    "# ====================================\n",
    "dfPageContent = pd.read_excel(xlsx, sheet_name=\"Page Content\")\n",
    "contentJSON = dfPageContent.to_json(orient='records')\n",
    "jsFile.write(f\"\\nlet pageContent = {contentJSON}\")\n",
    "jsFile.close() # Close the file"
   ]
  },
  {
   "cell_type": "markdown",
   "metadata": {},
   "source": [
    "# Process Spells Table"
   ]
  },
  {
   "cell_type": "code",
   "execution_count": 1,
   "metadata": {},
   "outputs": [],
   "source": [
    "# ===============\n",
    "#    Load File\n",
    "# ===============\n",
    "import pandas as pd # Import Pandas\n",
    "xlsx = pd.ExcelFile('DnD 5e Spells.xlsx') # Read the XLSX using Pandas\n",
    "df = pd.read_excel(xlsx, sheet_name='Sheet1') # Load the spells sheet into a DF\n",
    "jsFile = open(f\"spells.js\", \"w\") # Create a new file with a file version\n",
    "# ====================================\n",
    "#    Process the Page Content Sheet\n",
    "# ====================================\n",
    "contentJSON = df.to_json(orient='records') # Convert the DataFrame into a JSON\n",
    "jsFile.write(f\"\\nlet dbSpells = {contentJSON}\") # Write the JSON to the newly created file\n",
    "jsFile.close() # Close the file"
   ]
  },
  {
   "cell_type": "code",
   "execution_count": null,
   "metadata": {},
   "outputs": [],
   "source": []
  }
 ],
 "metadata": {
  "interpreter": {
   "hash": "2be5faf79681da6f2a61fdfdd5405d65d042280f7fba6178067603e3a2925119"
  },
  "kernelspec": {
   "display_name": "Python 3.10.1 64-bit",
   "language": "python",
   "name": "python3"
  },
  "language_info": {
   "codemirror_mode": {
    "name": "ipython",
    "version": 3
   },
   "file_extension": ".py",
   "mimetype": "text/x-python",
   "name": "python",
   "nbconvert_exporter": "python",
   "pygments_lexer": "ipython3",
   "version": "3.10.1"
  },
  "orig_nbformat": 4
 },
 "nbformat": 4,
 "nbformat_minor": 2
}
